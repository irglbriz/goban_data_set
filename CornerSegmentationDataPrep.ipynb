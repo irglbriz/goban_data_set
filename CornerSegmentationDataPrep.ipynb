{
 "cells": [
  {
   "cell_type": "code",
   "execution_count": 1,
   "metadata": {
    "colab": {
     "base_uri": "https://localhost:8080/",
     "height": 207
    },
    "colab_type": "code",
    "executionInfo": {
     "elapsed": 22381,
     "status": "ok",
     "timestamp": 1566223990026,
     "user": {
      "displayName": "Tristan Kraus",
      "photoUrl": "https://lh4.googleusercontent.com/-fSxFOcpxs0o/AAAAAAAAAAI/AAAAAAAAASo/3qK95lWjV-g/s64/photo.jpg",
      "userId": "00344496027935706033"
     },
     "user_tz": -120
    },
    "id": "lNbvOBg9T2KY",
    "outputId": "740e8cac-bd9d-4a69-c1fd-53ee460a4e11"
   },
   "outputs": [],
   "source": [
    "import os\n",
    "import random\n",
    "\n",
    "import numpy as np\n",
    "\n",
    "from matplotlib import pyplot as plt\n",
    "%matplotlib inline\n",
    "plt.rcParams['figure.dpi'] = 200 #make plots bigger\n",
    "\n",
    "import cv2\n",
    "import xml.etree.ElementTree as ET\n",
    "\n",
    "PROCESSING_DIM = 256 #divisible by 32 for u-net\n",
    "\n",
    "#from google.colab import drive\n",
    "#drive.mount('/content/gdrive')\n",
    "#PATH = './gdrive/My Drive/goban_data_set/'\n",
    "PATH = './'"
   ]
  },
  {
   "cell_type": "code",
   "execution_count": 2,
   "metadata": {
    "colab": {},
    "colab_type": "code",
    "id": "WVFAfNtLolsE"
   },
   "outputs": [],
   "source": [
    "def mirror_half(img, y):\n",
    "    if random.random() < 0.5:\n",
    "        return img, y\n",
    "    else:\n",
    "        img_mirrored = img[:,::-1].copy() # y,x,c\n",
    "        y_mirrored = y.copy()\n",
    "        # walk through x coordinates and mirror\n",
    "        for i in range(0, y.shape[0], 2):\n",
    "            y_mirrored[i] = 999 - y[i] #based on coordinates for 1000x1000\n",
    "        # swap left and right corners\n",
    "            y_mirrored_copy = y_mirrored.copy()\n",
    "            y_mirrored[0: 2] = y_mirrored_copy[6: 8]\n",
    "            y_mirrored[2: 4] = y_mirrored_copy[4: 6]\n",
    "            y_mirrored[4: 6] = y_mirrored_copy[2: 4]\n",
    "            y_mirrored[6: 8] = y_mirrored_copy[0: 2]\n",
    "        return img_mirrored, y_mirrored\n",
    "        \n",
    "def random_cutout(img, labels, max_cutout=50):\n",
    "    #print(f\"labels: {labels}\")\n",
    "    labels = labels.astype('float32')\n",
    "    left_space = np.amin(labels[::2]) - 1\n",
    "    right_space = 999 - np.amax(labels[::2])\n",
    "    top_space = np.amin(labels[1::2]) - 1\n",
    "    bottom_space = 999 - np.amax(labels[1::2])\n",
    "    \n",
    "    safe_space = min(left_space, right_space, top_space, bottom_space)\n",
    "    safe_space = min(safe_space, max_cutout) #TODO: change other versions of notebook to min as well\n",
    "\n",
    "    rand_left = random.randint(0, safe_space)\n",
    "    rand_right = random.randint(0, safe_space)\n",
    "    horizontal_total = rand_left + rand_right\n",
    "    rand_top = random.randint(0, safe_space)\n",
    "    rand_bottom = horizontal_total - rand_top #keeps aspect ratio\n",
    "    \n",
    "    cutoff_left = rand_left\n",
    "    cutoff_top = rand_top\n",
    "    cutoff_right = 999 - rand_right\n",
    "    cutoff_bottom = 999 - rand_bottom\n",
    "    \n",
    "    cutout = img[cutoff_top:cutoff_bottom, cutoff_left:cutoff_right]\n",
    "    \n",
    "    for xcoord in range(0, len(labels), 2):\n",
    "        labels[xcoord] =  labels[xcoord] * (1000 / (1000 - rand_right))\n",
    "        \n",
    "        labels[xcoord] = 999 - labels[xcoord]\n",
    "        labels[xcoord] =  labels[xcoord] * (1000 / (1000 - rand_left))\n",
    "        labels[xcoord] = 999 - labels[xcoord]\n",
    "        \n",
    "    for ycoord in range(1, len(labels), 2):\n",
    "        labels[ycoord] = labels[ycoord] * (1000 / (1000 - rand_bottom))\n",
    "        \n",
    "        labels[ycoord] = 999 - labels[ycoord]\n",
    "        labels[ycoord] =  labels[ycoord] * (1000 / (1000 - rand_top))\n",
    "        labels[ycoord] = 999 - labels[ycoord]\n",
    "    \n",
    "    labels = np.rint(labels)\n",
    "    labels = labels.astype('uint16')\n",
    "    return cutout, labels\n",
    "\n",
    "def create_training_images_and_masks(m, shift=0):\n",
    "    files = os.listdir(PATH + 'training_images_for_labels/')\n",
    "    for i in range(0+shift, m+shift):\n",
    "        for file in random.sample(files, 1):\n",
    "            y = np.zeros((8), dtype=np.uint16)\n",
    "            points = {}\n",
    "            tree = ET.parse(PATH+'training_corner_labels/'+file.rstrip('png')+'xml')\n",
    "            root = tree.getroot()\n",
    "            for obj in root.findall('object'):\n",
    "                tag = obj.find('name').text\n",
    "                x_coord = np.uint16(obj.find('point').find('x1').text)\n",
    "                y_coord = np.uint16(obj.find('point').find('y1').text)\n",
    "                points[tag] = [x_coord,y_coord]\n",
    "            y[0:2] = points['ul_board_corner']\n",
    "            y[2:4] = points['dl_board_corner']\n",
    "            y[4:6] = points['dr_board_corner']\n",
    "            y[6:8] = points['ur_board_corner']\n",
    "            \n",
    "            filename=PATH+'training_images_for_labels/'+file\n",
    "            img = cv2.imread(filename)\n",
    "            img = cv2.cvtColor(img, cv2.COLOR_BGR2GRAY)\n",
    "            clahe = cv2.createCLAHE(clipLimit=2.0, tileGridSize=(8, 8))\n",
    "            img = clahe.apply(img)\n",
    "            img, y = random_cutout(img, y)\n",
    "            img = cv2.resize(img, dsize=(PROCESSING_DIM,PROCESSING_DIM), \n",
    "                             interpolation=cv2.INTER_LINEAR)\n",
    "            mirror_half(img, y)\n",
    "            filename=PATH+'training_images_for_masks/'+str(i)+'.png'\n",
    "            cv2.imwrite(filename, img)\n",
    "            \n",
    "            mask = np.zeros((1000, 1000), np.uint8)\n",
    "            cv2.fillConvexPoly(mask, np.reshape(y, (-1,2)).astype('int32'), 255)\n",
    "            mask = cv2.resize(mask, dsize=(PROCESSING_DIM,PROCESSING_DIM), \n",
    "                         interpolation=cv2.INTER_LINEAR)\n",
    "            filename=PATH+'training_masks/'+str(i)+'.png'\n",
    "            cv2.imwrite(filename, mask)\n",
    "    print('created randomized training images and masks')\n",
    "    return None\n",
    "        \n",
    "def create_validation_images_and_masks():\n",
    "    files = os.listdir(PATH + 'validation_images/')\n",
    "    for file in files:\n",
    "        y = np.zeros((8), dtype=np.uint16)\n",
    "        points = {}\n",
    "        tree = ET.parse(PATH+'validation_labels/'+file.rstrip('png')+'xml')\n",
    "        root = tree.getroot()\n",
    "        for obj in root.findall('object'):\n",
    "            tag = obj.find('name').text\n",
    "            x_coord = np.uint16(obj.find('point').find('x1').text)\n",
    "            y_coord = np.uint16(obj.find('point').find('y1').text)\n",
    "            points[tag] = [x_coord,y_coord]\n",
    "        y[0:2] = points['ul_board_corner']\n",
    "        y[2:4] = points['dl_board_corner']\n",
    "        y[4:6] = points['dr_board_corner']\n",
    "        y[6:8] = points['ur_board_corner']\n",
    "        \n",
    "        filename=PATH+'validation_images/'+file\n",
    "        img = cv2.imread(filename)\n",
    "        img = cv2.cvtColor(img, cv2.COLOR_BGR2GRAY)\n",
    "        clahe = cv2.createCLAHE(clipLimit=2.0, tileGridSize=(8, 8))\n",
    "        img = clahe.apply(img)\n",
    "        img = cv2.resize(img, dsize=(PROCESSING_DIM,PROCESSING_DIM), \n",
    "                         interpolation=cv2.INTER_LINEAR)\n",
    "        filename=PATH+'validation_images_for_masks/'+file\n",
    "        cv2.imwrite(filename, img)\n",
    "        \n",
    "        mask = np.zeros((1000, 1000), np.uint8)\n",
    "        cv2.fillConvexPoly(mask, np.reshape(y, (-1,2)).astype('int32'), 255)\n",
    "        mask = cv2.resize(mask, dsize=(PROCESSING_DIM,PROCESSING_DIM), \n",
    "                         interpolation=cv2.INTER_LINEAR)\n",
    "        filename=PATH+'validation_masks/'+file\n",
    "        cv2.imwrite(filename, mask)\n",
    "    print('created validation images and masks')\n",
    "    return None    "
   ]
  },
  {
   "cell_type": "code",
   "execution_count": 55,
   "metadata": {
    "colab": {
     "base_uri": "https://localhost:8080/",
     "height": 94
    },
    "colab_type": "code",
    "executionInfo": {
     "elapsed": 1275,
     "status": "ok",
     "timestamp": 1566231087134,
     "user": {
      "displayName": "Tristan Kraus",
      "photoUrl": "https://lh4.googleusercontent.com/-fSxFOcpxs0o/AAAAAAAAAAI/AAAAAAAAASo/3qK95lWjV-g/s64/photo.jpg",
      "userId": "00344496027935706033"
     },
     "user_tz": -120
    },
    "id": "_FIfFWq571Qe",
    "outputId": "6a4e2f47-0476-4f0d-f5f0-5be4b3b6c343"
   },
   "outputs": [
    {
     "name": "stdout",
     "output_type": "stream",
     "text": [
      "created validation images and masks\n"
     ]
    }
   ],
   "source": [
    "create_validation_images_and_masks()"
   ]
  },
  {
   "cell_type": "code",
   "execution_count": 5,
   "metadata": {
    "colab": {
     "base_uri": "https://localhost:8080/",
     "height": 94
    },
    "colab_type": "code",
    "executionInfo": {
     "elapsed": 6484,
     "status": "ok",
     "timestamp": 1566231537498,
     "user": {
      "displayName": "Tristan Kraus",
      "photoUrl": "https://lh4.googleusercontent.com/-fSxFOcpxs0o/AAAAAAAAAAI/AAAAAAAAASo/3qK95lWjV-g/s64/photo.jpg",
      "userId": "00344496027935706033"
     },
     "user_tz": -120
    },
    "id": "pQZYveHG_u5R",
    "outputId": "19830d5b-435f-4c3b-8996-7d3a00181a64"
   },
   "outputs": [
    {
     "name": "stdout",
     "output_type": "stream",
     "text": [
      "created randomized training images and masks\n"
     ]
    }
   ],
   "source": [
    "create_training_images_and_masks(10000)"
   ]
  },
  {
   "cell_type": "code",
   "execution_count": null,
   "metadata": {},
   "outputs": [],
   "source": []
  }
 ],
 "metadata": {
  "colab": {
   "collapsed_sections": [],
   "machine_shape": "hm",
   "name": "CornerSegmentationDataPrep.ipynb",
   "provenance": [],
   "version": "0.3.2"
  },
  "kernelspec": {
   "display_name": "Python 3",
   "language": "python",
   "name": "python3"
  },
  "language_info": {
   "codemirror_mode": {
    "name": "ipython",
    "version": 3
   },
   "file_extension": ".py",
   "mimetype": "text/x-python",
   "name": "python",
   "nbconvert_exporter": "python",
   "pygments_lexer": "ipython3",
   "version": "3.7.2"
  }
 },
 "nbformat": 4,
 "nbformat_minor": 1
}
